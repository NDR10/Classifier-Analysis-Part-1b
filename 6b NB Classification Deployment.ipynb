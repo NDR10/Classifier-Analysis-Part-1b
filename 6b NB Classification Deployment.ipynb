{
 "cells": [
  {
   "cell_type": "markdown",
   "id": "df58fc4d-570d-4377-a7d7-2856e60ef96a",
   "metadata": {},
   "source": [
    "# Deployment of Classification Codes Using NB"
   ]
  },
  {
   "cell_type": "code",
   "execution_count": 1,
   "id": "a040f4f4-1503-4242-b64b-6adb44ac0631",
   "metadata": {},
   "outputs": [],
   "source": [
    "# Import libraries\n",
    "import sklearn\n",
    "import pandas as pd\n",
    "import numpy as np\n",
    "import warnings\n",
    "import pickle"
   ]
  },
  {
   "cell_type": "code",
   "execution_count": 2,
   "id": "1e64b619-03fa-4894-abd8-4c3cd7b3002d",
   "metadata": {},
   "outputs": [],
   "source": [
    "# Ignore warnings\n",
    "warnings.filterwarnings(\"ignore\")"
   ]
  },
  {
   "cell_type": "code",
   "execution_count": 3,
   "id": "1dff5f7c-8385-44d6-a12d-cd7a562845b5",
   "metadata": {},
   "outputs": [
    {
     "data": {
      "text/plain": [
       "array([0], dtype=int64)"
      ]
     },
     "execution_count": 3,
     "metadata": {},
     "output_type": "execute_result"
    }
   ],
   "source": [
    "load_model=pickle.load(open(\"Pythoncode_NB1.sav\", \"rb\"))\n",
    "Result1 = load_model.predict([[40,30000,1]])\n",
    "Result1"
   ]
  },
  {
   "cell_type": "code",
   "execution_count": 4,
   "id": "8e60787d-38ea-4337-becd-0c7e19634599",
   "metadata": {},
   "outputs": [
    {
     "data": {
      "text/plain": [
       "array([0], dtype=int64)"
      ]
     },
     "execution_count": 4,
     "metadata": {},
     "output_type": "execute_result"
    }
   ],
   "source": [
    "load_model=pickle.load(open(\"Pythoncode_NB2.sav\", \"rb\"))\n",
    "Result1 = load_model.predict([[40,30000,1]])\n",
    "Result1"
   ]
  },
  {
   "cell_type": "code",
   "execution_count": 9,
   "id": "ceb4f7e9-59c6-4d3f-b59b-1dd49a07c9be",
   "metadata": {},
   "outputs": [
    {
     "data": {
      "text/plain": [
       "array([0], dtype=int64)"
      ]
     },
     "execution_count": 9,
     "metadata": {},
     "output_type": "execute_result"
    }
   ],
   "source": [
    "load_model=pickle.load(open(\"Pythoncode_NB3.sav\", \"rb\"))\n",
    "Result1 = load_model.predict([[40,30000,1]])\n",
    "Result1"
   ]
  },
  {
   "cell_type": "code",
   "execution_count": 11,
   "id": "635977dd-021c-4613-bfa6-181ae000da84",
   "metadata": {},
   "outputs": [
    {
     "data": {
      "text/plain": [
       "array([0], dtype=int64)"
      ]
     },
     "execution_count": 11,
     "metadata": {},
     "output_type": "execute_result"
    }
   ],
   "source": [
    "load_model=pickle.load(open(\"Pythoncode_NB4.sav\", \"rb\"))\n",
    "Result1 = load_model.predict([[40,30000,1]])\n",
    "Result1"
   ]
  },
  {
   "cell_type": "code",
   "execution_count": null,
   "id": "fc5f24ee-0c47-43c7-bcde-34665fd8c440",
   "metadata": {},
   "outputs": [],
   "source": []
  }
 ],
 "metadata": {
  "kernelspec": {
   "display_name": "Python 3 (ipykernel)",
   "language": "python",
   "name": "python3"
  },
  "language_info": {
   "codemirror_mode": {
    "name": "ipython",
    "version": 3
   },
   "file_extension": ".py",
   "mimetype": "text/x-python",
   "name": "python",
   "nbconvert_exporter": "python",
   "pygments_lexer": "ipython3",
   "version": "3.12.4"
  }
 },
 "nbformat": 4,
 "nbformat_minor": 5
}
